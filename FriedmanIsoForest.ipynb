{
  "nbformat": 4,
  "nbformat_minor": 0,
  "metadata": {
    "colab": {
      "name": "FriedmanIsoForest.ipynb",
      "provenance": [],
      "include_colab_link": true
    },
    "kernelspec": {
      "name": "python3",
      "display_name": "Python 3"
    }
  },
  "cells": [
    {
      "cell_type": "markdown",
      "metadata": {
        "id": "view-in-github",
        "colab_type": "text"
      },
      "source": [
        "<a href=\"https://colab.research.google.com/github/angelotc/Decomposition-of-Retail-Companies/blob/master/FriedmanIsoForest.ipynb\" target=\"_parent\"><img src=\"https://colab.research.google.com/assets/colab-badge.svg\" alt=\"Open In Colab\"/></a>"
      ]
    },
    {
      "cell_type": "code",
      "metadata": {
        "id": "meQr5PXyHv-1"
      },
      "source": [
        "from sklearn.datasets import make_friedman1\r\n",
        "from sklearn.ensemble import IsolationForest\r\n",
        "from sklearn.model_selection import train_test_split\r\n",
        "import pandas as pd\r\n",
        "from sklearn import model_selection \r\n",
        "import numpy as np"
      ],
      "execution_count": null,
      "outputs": []
    },
    {
      "cell_type": "code",
      "metadata": {
        "id": "TfU1BnXbVojK"
      },
      "source": [
        "# Helper functions\r\n",
        "\r\n",
        "def add_y_as_feature(X,y):\r\n",
        "  y = np.reshape(y,(len(y),1))\r\n",
        "  return np.concatenate((X,y), axis=1)\r\n",
        "\r\n",
        "def copy_and_add_noise_rows(df,):\r\n",
        "  pass"
      ],
      "execution_count": null,
      "outputs": []
    },
    {
      "cell_type": "code",
      "metadata": {
        "id": "2qvzpeGsH3Xk",
        "colab": {
          "base_uri": "https://localhost:8080/"
        },
        "outputId": "832c760c-cd39-49c7-d397-8cfec3b08be3"
      },
      "source": [
        "# Create synthetic dataset using make_friedman1. N = 100k\r\n",
        "\r\n",
        "X, y = make_friedman1(\r\n",
        "    n_samples=1000, n_features = 5 , random_state=1)\r\n",
        "\r\n",
        "X.shape,y.shape"
      ],
      "execution_count": null,
      "outputs": [
        {
          "output_type": "execute_result",
          "data": {
            "text/plain": [
              "((1000, 5), (1000,))"
            ]
          },
          "metadata": {
            "tags": []
          },
          "execution_count": 197
        }
      ]
    },
    {
      "cell_type": "code",
      "metadata": {
        "colab": {
          "base_uri": "https://localhost:8080/",
          "height": 279
        },
        "id": "1cjeq8FCQ09E",
        "outputId": "23eb7eef-0e9d-43bd-8f11-d0757c6d49e5"
      },
      "source": [
        "from matplotlib import pyplot as plt\r\n",
        "n_bins = 10\r\n",
        "# We can set the number of bins with the `bins` kwarg\r\n",
        "\r\n",
        "plt.xlabel('y')\r\n",
        "plt.ylabel('Probability')\r\n",
        "n, bins, patches = plt.hist(y, bins=n_bins, density=True, facecolor='g', alpha=0.75)"
      ],
      "execution_count": null,
      "outputs": [
        {
          "output_type": "display_data",
          "data": {
            "image/png": "[encoded data removed]",
            "text/plain": [
              "<Figure size 432x288 with 1 Axes>"
            ]
          },
          "metadata": {
            "tags": [],
            "needs_background": "light"
          }
        }
      ]
    },
    {
      "cell_type": "code",
      "metadata": {
        "colab": {
          "base_uri": "https://localhost:8080/"
        },
        "id": "nLPeBY4NXAk_",
        "outputId": "16ee61dc-5d35-4de6-953c-46ad2b5b30d6"
      },
      "source": [
        "\r\n",
        "X = add_y_as_feature(X,y)\r\n",
        "X[0]"
      ],
      "execution_count": null,
      "outputs": [
        {
          "output_type": "execute_result",
          "data": {
            "text/plain": [
              "array([4.17022005e-01, 7.20324493e-01, 1.14374817e-04, 3.02332573e-01,\n",
              "       1.46755891e-01, 1.68522049e+01])"
            ]
          },
          "metadata": {
            "tags": []
          },
          "execution_count": 182
        }
      ]
    },
    {
      "cell_type": "code",
      "metadata": {
        "id": "RviF_Pi5P0g5"
      },
      "source": [
        "# Divide 10% of the dataset as the test set ; 90% of the dataset into a training set. \r\n",
        "\r\n",
        "X_train, X_test, y_train, y_test = train_test_split( X, y, test_size=0.1, random_state=42)\r\n",
        "\r\n",
        "# we don't really need y_test or y_train..."
      ],
      "execution_count": null,
      "outputs": []
    },
    {
      "cell_type": "code",
      "metadata": {
        "id": "_osHKLTKH_JH"
      },
      "source": [
        "# Instantiate model -> fit -> predict using test set.\r\n",
        "# Note on contamination parameter: This is a parameter that the algorithm is quite sensitive to; it refers to the expected \r\n",
        "# proportion of outliers in the data set. This is used when fitting to define the threshold on the scores of the samples.\r\n",
        "\r\n",
        "clf = IsolationForest(max_samples=0.5, contamination = 0, bootstrap = True )\r\n",
        "clf.fit(X_train)\r\n",
        "y_pred_test = clf.predict(X_test)"
      ],
      "execution_count": null,
      "outputs": []
    },
    {
      "cell_type": "code",
      "metadata": {
        "colab": {
          "base_uri": "https://localhost:8080/"
        },
        "id": "eUZt0XzTohPR",
        "outputId": "af4ce880-5551-4c8c-b703-1a169de71123"
      },
      "source": [
        "pd.DataFrame(y_pred_test).value_counts()"
      ],
      "execution_count": null,
      "outputs": [
        {
          "output_type": "execute_result",
          "data": {
            "text/plain": [
              "1    10000\n",
              "dtype: int64"
            ]
          },
          "metadata": {
            "tags": []
          },
          "execution_count": 112
        }
      ]
    },
    {
      "cell_type": "markdown",
      "metadata": {
        "id": "QkCt7Hs0TsjE"
      },
      "source": [
        "The above says that only 2 of the 10k test set samples are found as outliers. Of course, these 2 are false-positives, since they are  generated by the formula of Friedman formula:\r\n"
      ]
    },
    {
      "cell_type": "markdown",
      "metadata": {
        "id": "LKts_XV_TsdU"
      },
      "source": [
        "y(X) = 10 * sin(pi * X[:, 0] * X[:, 1]) + 20 * (X[:, 2] - 0.5) ** 2 + 10 * X[:, 3] + 5 * X[:, 4] + noise * N(0, 1)."
      ]
    },
    {
      "cell_type": "markdown",
      "metadata": {
        "id": "kECZLKCWeXYp"
      },
      "source": [
        "##Everything below is experimental:"
      ]
    },
    {
      "cell_type": "code",
      "metadata": {
        "id": "iysXz1olVWD5"
      },
      "source": [
        "# Increasing features from 5->50? Only first 5 variables are correlated, so what if we add more independent variables. Would that change our predictions?\r\n",
        "for i in range (5,10):\r\n",
        "  X, y = make_friedman1(\r\n",
        "    n_samples=100000, n_features = i,  noise=0.1, random_state=1)\r\n",
        "  X_train, X_test, y_train, y_test = train_test_split( X, y, test_size=0.1, random_state=42)\r\n",
        "  clf = IsolationForest(max_samples='auto', contamination = 0)\r\n",
        "  clf.fit(X_train)\r\n",
        "  y_pred_test = clf.predict(X_test)\r\n",
        "  print(i, pd.DataFrame(y_pred_test).value_counts())"
      ],
      "execution_count": null,
      "outputs": []
    },
    {
      "cell_type": "code",
      "metadata": {
        "id": "WQOZRpSuQlb9"
      },
      "source": [
        "# Doesn't look like it!"
      ],
      "execution_count": null,
      "outputs": []
    }
  ]
}