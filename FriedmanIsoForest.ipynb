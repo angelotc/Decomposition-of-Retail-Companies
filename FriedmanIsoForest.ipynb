{
  "nbformat": 4,
  "nbformat_minor": 0,
  "metadata": {
    "colab": {
      "name": "FriedmanIsoForest.ipynb",
      "provenance": [],
      "authorship_tag": "ABX9TyO60IoLGijGWilkZgzavZIl",
      "include_colab_link": true
    },
    "kernelspec": {
      "name": "python3",
      "display_name": "Python 3"
    }
  },
  "cells": [
    {
      "cell_type": "markdown",
      "metadata": {
        "id": "view-in-github",
        "colab_type": "text"
      },
      "source": [
        "<a href=\"https://colab.research.google.com/github/angelotc/Decomposition-of-Retail-Companies/blob/master/FriedmanIsoForest.ipynb\" target=\"_parent\"><img src=\"https://colab.research.google.com/assets/colab-badge.svg\" alt=\"Open In Colab\"/></a>"
      ]
    },
    {
      "cell_type": "code",
      "metadata": {
        "id": "meQr5PXyHv-1"
      },
      "source": [
        "from sklearn.datasets import make_friedman1\r\n",
        "from sklearn.ensemble import IsolationForest\r\n",
        "from sklearn.model_selection import train_test_split\r\n",
        "import pandas as pd\r\n",
        "from sklearn.metrics import make_scorer, f1_score\r\n",
        "from sklearn import model_selection "
      ],
      "execution_count": 24,
      "outputs": []
    },
    {
      "cell_type": "code",
      "metadata": {
        "id": "2qvzpeGsH3Xk"
      },
      "source": [
        "# Create synthetic dataset using make_friedman1. N = 100k\r\n",
        "\r\n",
        "X, y = make_friedman1(\r\n",
        "    n_samples=100000, n_features = 5,  noise=0, random_state=1)\r\n",
        "\r\n",
        "# Divide 10% of the dataset as the test set ; 90% of the dataset into a training set. \r\n",
        "\r\n",
        "X_train, X_test, y_train, y_test = train_test_split( X, y, test_size=0.1, random_state=42)"
      ],
      "execution_count": 50,
      "outputs": []
    },
    {
      "cell_type": "code",
      "metadata": {
        "id": "_osHKLTKH_JH"
      },
      "source": [
        "# Fit it to the model.\r\n",
        "# Note on contamination parameter: This is a parameter that the algorithm is quite sensitive to; it refers to the expected \r\n",
        "# proportion of outliers in the data set. This is used when fitting to define the threshold on the scores of the samples.\r\n",
        "\r\n",
        "clf = IsolationForest(max_samples='auto', contamination = 0, random_state=rng)\r\n",
        "clf.fit(X_train)\r\n",
        "y_pred_train = clf.predict(X_train)\r\n",
        "y_pred_test = clf.predict(X_test)"
      ],
      "execution_count": 54,
      "outputs": []
    },
    {
      "cell_type": "code",
      "metadata": {
        "colab": {
          "base_uri": "https://localhost:8080/",
          "height": 281
        },
        "id": "URhbbFinoOh7",
        "outputId": "0548db72-1a4b-4967-9da5-2c0f76b2ba2f"
      },
      "source": [
        "import numpy as np\r\n",
        "import matplotlib.pyplot as plt\r\n",
        "rng = np.random.RandomState(10)  # deterministic random data\r\n",
        "a = np.hstack((rng.normal(size=1000),\r\n",
        "               rng.normal(loc=5, scale=2, size=1000)))\r\n",
        "_ = plt.hist(y_pred_test, bins='auto')  # arguments are passed to np.histogram\r\n",
        "plt.title(\"Histogram with 'auto' bins\")\r\n",
        "plt.show()"
      ],
      "execution_count": 55,
      "outputs": [
        {
          "output_type": "display_data",
          "data": {
            "image/png": "[encoded data removed]",
            "text/plain": [
              "<Figure size 432x288 with 1 Axes>"
            ]
          },
          "metadata": {
            "tags": [],
            "needs_background": "light"
          }
        }
      ]
    },
    {
      "cell_type": "code",
      "metadata": {
        "colab": {
          "base_uri": "https://localhost:8080/"
        },
        "id": "eUZt0XzTohPR",
        "outputId": "638e2f52-eeb6-4f3f-9db8-b6b0f49f2fdc"
      },
      "source": [
        "pd.DataFrame(y_pred_test).value_counts()\r\n",
        "\r\n"
      ],
      "execution_count": 56,
      "outputs": [
        {
          "output_type": "execute_result",
          "data": {
            "text/plain": [
              " 1    9998\n",
              "-1       2\n",
              "dtype: int64"
            ]
          },
          "metadata": {
            "tags": []
          },
          "execution_count": 56
        }
      ]
    },
    {
      "cell_type": "markdown",
      "metadata": {
        "id": "QkCt7Hs0TsjE"
      },
      "source": [
        "The above says that only 2 of the 10k test set samples are found as outliers. Of course, these are false-positives, since they are are generated by the formula of Friedman formula:\r\n"
      ]
    },
    {
      "cell_type": "markdown",
      "metadata": {
        "id": "LKts_XV_TsdU"
      },
      "source": [
        "y(X) = 10 * sin(pi * X[:, 0] * X[:, 1]) + 20 * (X[:, 2] - 0.5) ** 2 + 10 * X[:, 3] + 5 * X[:, 4] + noise * N(0, 1)."
      ]
    },
    {
      "cell_type": "code",
      "metadata": {
        "id": "srsxyWOkPvWj"
      },
      "source": [
        ""
      ],
      "execution_count": null,
      "outputs": []
    }
  ]
}